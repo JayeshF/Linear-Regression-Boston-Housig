{
 "cells": [
  {
   "cell_type": "code",
   "execution_count": 263,
   "metadata": {
    "collapsed": true
   },
   "outputs": [],
   "source": [
    "from sklearn import datasets\n",
    "import pandas as pd\n",
    "from sklearn.preprocessing import StandardScaler\n",
    "from sklearn.cross_validation import train_test_split\n",
    "from sklearn.metrics import mean_squared_error\n",
    "from sklearn.metrics import r2_score\n",
    "from sklearn.linear_model import LinearRegression\n",
    "from sklearn.linear_model import Lasso\n",
    "import numpy as np\n",
    "import matplotlib.pyplot as plt"
   ]
  },
  {
   "cell_type": "code",
   "execution_count": 264,
   "metadata": {
    "collapsed": false
   },
   "outputs": [
    {
     "name": "stdout",
     "output_type": "stream",
     "text": [
      "Boston House Prices dataset\n",
      "\n",
      "Notes\n",
      "------\n",
      "Data Set Characteristics:  \n",
      "\n",
      "    :Number of Instances: 506 \n",
      "\n",
      "    :Number of Attributes: 13 numeric/categorical predictive\n",
      "    \n",
      "    :Median Value (attribute 14) is usually the target\n",
      "\n",
      "    :Attribute Information (in order):\n",
      "        - CRIM     per capita crime rate by town\n",
      "        - ZN       proportion of residential land zoned for lots over 25,000 sq.ft.\n",
      "        - INDUS    proportion of non-retail business acres per town\n",
      "        - CHAS     Charles River dummy variable (= 1 if tract bounds river; 0 otherwise)\n",
      "        - NOX      nitric oxides concentration (parts per 10 million)\n",
      "        - RM       average number of rooms per dwelling\n",
      "        - AGE      proportion of owner-occupied units built prior to 1940\n",
      "        - DIS      weighted distances to five Boston employment centres\n",
      "        - RAD      index of accessibility to radial highways\n",
      "        - TAX      full-value property-tax rate per $10,000\n",
      "        - PTRATIO  pupil-teacher ratio by town\n",
      "        - B        1000(Bk - 0.63)^2 where Bk is the proportion of blacks by town\n",
      "        - LSTAT    % lower status of the population\n",
      "        - MEDV     Median value of owner-occupied homes in $1000's\n",
      "\n",
      "    :Missing Attribute Values: None\n",
      "\n",
      "    :Creator: Harrison, D. and Rubinfeld, D.L.\n",
      "\n",
      "This is a copy of UCI ML housing dataset.\n",
      "http://archive.ics.uci.edu/ml/datasets/Housing\n",
      "\n",
      "\n",
      "This dataset was taken from the StatLib library which is maintained at Carnegie Mellon University.\n",
      "\n",
      "The Boston house-price data of Harrison, D. and Rubinfeld, D.L. 'Hedonic\n",
      "prices and the demand for clean air', J. Environ. Economics & Management,\n",
      "vol.5, 81-102, 1978.   Used in Belsley, Kuh & Welsch, 'Regression diagnostics\n",
      "...', Wiley, 1980.   N.B. Various transformations are used in the table on\n",
      "pages 244-261 of the latter.\n",
      "\n",
      "The Boston house-price data has been used in many machine learning papers that address regression\n",
      "problems.   \n",
      "     \n",
      "**References**\n",
      "\n",
      "   - Belsley, Kuh & Welsch, 'Regression diagnostics: Identifying Influential Data and Sources of Collinearity', Wiley, 1980. 244-261.\n",
      "   - Quinlan,R. (1993). Combining Instance-Based and Model-Based Learning. In Proceedings on the Tenth International Conference of Machine Learning, 236-243, University of Massachusetts, Amherst. Morgan Kaufmann.\n",
      "   - many more! (see http://archive.ics.uci.edu/ml/datasets/Housing)\n",
      "\n"
     ]
    }
   ],
   "source": [
    "bean = datasets.load_boston()\n",
    "print bean.DESCR"
   ]
  },
  {
   "cell_type": "code",
   "execution_count": 265,
   "metadata": {
    "collapsed": true
   },
   "outputs": [],
   "source": [
    "def load_boston():\n",
    "    scaler = StandardScaler()\n",
    "    boston = datasets.load_boston()\n",
    "    X=boston.data\n",
    "    y=boston.target\n",
    "    X = scaler.fit_transform(X)\n",
    "    return train_test_split(X,y)"
   ]
  },
  {
   "cell_type": "code",
   "execution_count": 286,
   "metadata": {
    "collapsed": true
   },
   "outputs": [],
   "source": [
    "X_train, X_test, y_train, y_test = load_boston()"
   ]
  },
  {
   "cell_type": "code",
   "execution_count": 287,
   "metadata": {
    "collapsed": false
   },
   "outputs": [
    {
     "data": {
      "text/plain": [
       "(379L, 13L)"
      ]
     },
     "execution_count": 287,
     "metadata": {},
     "output_type": "execute_result"
    }
   ],
   "source": [
    "X_train.shape"
   ]
  },
  {
   "cell_type": "code",
   "execution_count": 288,
   "metadata": {
    "collapsed": false
   },
   "outputs": [
    {
     "data": {
      "text/plain": [
       "LinearRegression(copy_X=True, fit_intercept=True, n_jobs=1, normalize=False)"
      ]
     },
     "execution_count": 288,
     "metadata": {},
     "output_type": "execute_result"
    }
   ],
   "source": [
    "clf = LinearRegression()\n",
    "clf.fit(X_train, y_train)"
   ]
  },
  {
   "cell_type": "code",
   "execution_count": 289,
   "metadata": {
    "collapsed": false
   },
   "outputs": [
    {
     "data": {
      "text/plain": [
       "[(20.800000000000001, 18.126535259985861),\n",
       " (11.300000000000001, 14.079041088645939),\n",
       " (16.199999999999999, 15.11498390983699),\n",
       " (12.699999999999999, 11.357934298756804),\n",
       " (27.5, 32.352220158928525),\n",
       " (6.2999999999999998, 11.575904198541323),\n",
       " (22.899999999999999, 19.325579668515449),\n",
       " (30.100000000000001, 34.120583320286435),\n",
       " (20.800000000000001, 23.708533336488706),\n",
       " (7.5, 13.129102714120128),\n",
       " (21.199999999999999, 21.217307555411878),\n",
       " (17.100000000000001, 16.860192000109677),\n",
       " (28.699999999999999, 30.275085209120853),\n",
       " (17.800000000000001, 8.3952146081953547),\n",
       " (19.399999999999999, 17.096269338570355),\n",
       " (19.600000000000001, 17.389906784149815),\n",
       " (42.799999999999997, 27.752222862613483),\n",
       " (20.899999999999999, 21.611401524369136),\n",
       " (18.5, 25.247772315280727),\n",
       " (30.800000000000001, 31.972114631054179),\n",
       " (50.0, 35.437519319387121),\n",
       " (20.600000000000001, 16.056853947586717),\n",
       " (29.100000000000001, 30.926459003925224),\n",
       " (23.800000000000001, 22.621065579588105),\n",
       " (14.5, 17.579473317196303),\n",
       " (22.0, 25.342847492401241),\n",
       " (26.600000000000001, 27.348119217381058),\n",
       " (50.0, 27.052841768811895),\n",
       " (18.399999999999999, 18.425459455877011),\n",
       " (21.699999999999999, 22.331275724944078),\n",
       " (24.100000000000001, 25.822408573762957),\n",
       " (18.600000000000001, 16.052783203018624),\n",
       " (23.199999999999999, 27.175873358635428),\n",
       " (50.0, 41.344878830464111),\n",
       " (32.899999999999999, 30.513983784955023),\n",
       " (22.600000000000001, 27.01664906218662),\n",
       " (18.899999999999999, 24.141955602624815),\n",
       " (21.800000000000001, 20.928976011895031),\n",
       " (19.600000000000001, 21.004798126739338),\n",
       " (33.799999999999997, 33.79568346464584),\n",
       " (23.300000000000001, 22.952066922504358),\n",
       " (19.699999999999999, 14.437529682066263),\n",
       " (17.5, 15.503963732341173),\n",
       " (10.5, 12.683924038787314),\n",
       " (20.0, 17.998186292680778),\n",
       " (22.600000000000001, 27.140945733478304),\n",
       " (12.6, 17.692971664494319),\n",
       " (17.199999999999999, 13.824072078397551),\n",
       " (16.100000000000001, 21.976006028047681),\n",
       " (32.200000000000003, 31.465381451611748),\n",
       " (23.199999999999999, 22.901560161846053),\n",
       " (13.1, 11.808862618105241),\n",
       " (20.899999999999999, 20.850116451838971),\n",
       " (37.200000000000003, 32.735193781419383),\n",
       " (20.0, 20.642558046677912),\n",
       " (37.299999999999997, 34.966235418681244),\n",
       " (23.0, 19.252002661484596),\n",
       " (18.899999999999999, 20.665861444405948),\n",
       " (5.5999999999999996, 12.214677713654366),\n",
       " (15.6, 10.640579501947766),\n",
       " (8.4000000000000004, 4.8854654676317146),\n",
       " (50.0, 35.314064889823065),\n",
       " (36.200000000000003, 28.254287366198319),\n",
       " (19.0, 21.030109757026263),\n",
       " (15.6, 13.894727178069346),\n",
       " (14.300000000000001, 13.979341351212232),\n",
       " (20.300000000000001, 19.224932301125893),\n",
       " (21.100000000000001, 19.951136459190479),\n",
       " (21.399999999999999, 24.052908097321016),\n",
       " (19.399999999999999, 15.314496490877435),\n",
       " (25.300000000000001, 24.91465442713492),\n",
       " (19.800000000000001, 21.173396630174349),\n",
       " (20.399999999999999, 19.050940213456013),\n",
       " (13.300000000000001, 13.749755199242497),\n",
       " (18.5, 13.240083392552876),\n",
       " (5.0, 7.2164820841193986),\n",
       " (14.0, 13.388068573317639),\n",
       " (17.5, 16.565934726700444),\n",
       " (31.600000000000001, 31.950131720452898),\n",
       " (13.800000000000001, 17.543473769236151),\n",
       " (23.5, 31.012364055512883),\n",
       " (23.899999999999999, 25.631136510957592),\n",
       " (44.799999999999997, 37.313691112606847),\n",
       " (16.800000000000001, 20.456715818426293),\n",
       " (19.600000000000001, 16.539387419425577),\n",
       " (20.199999999999999, 21.762124259250267),\n",
       " (38.700000000000003, 34.812363791131929),\n",
       " (17.600000000000001, 16.043193204921828),\n",
       " (43.100000000000001, 35.865141614631995),\n",
       " (13.4, 13.619400660915865),\n",
       " (11.800000000000001, 7.6721598358028729),\n",
       " (21.800000000000001, 21.945727995532742),\n",
       " (43.799999999999997, 34.452208585153656),\n",
       " (20.199999999999999, 16.421765531406891),\n",
       " (11.9, 9.9374211488167958),\n",
       " (22.399999999999999, 23.588130030572724),\n",
       " (23.300000000000001, 28.23406415284547),\n",
       " (25.0, 21.574858736201971),\n",
       " (48.799999999999997, 39.04133655331718),\n",
       " (27.100000000000001, 18.655542882306086),\n",
       " (7.2000000000000002, 9.5230277385626572),\n",
       " (33.0, 21.564611283660412),\n",
       " (14.1, 17.325641647585122),\n",
       " (21.5, 25.346642302408988),\n",
       " (23.600000000000001, 30.064012383855069),\n",
       " (19.399999999999999, 23.135145256502007),\n",
       " (23.800000000000001, 24.778309893997438),\n",
       " (23.0, 29.55543431207596),\n",
       " (19.300000000000001, 21.221876060948677),\n",
       " (20.300000000000001, 22.184917798197773),\n",
       " (8.5, 16.837461717778869),\n",
       " (25.100000000000001, 30.146491399049928),\n",
       " (21.0, 20.028274457799899),\n",
       " (8.8000000000000007, 5.8036504042407806),\n",
       " (7.2000000000000002, 17.904814834014935),\n",
       " (36.200000000000003, 26.720063237932049),\n",
       " (5.0, 8.377880923457047),\n",
       " (20.399999999999999, 22.700704777674581),\n",
       " (31.699999999999999, 32.508416740891832),\n",
       " (20.699999999999999, 26.747093695137231),\n",
       " (33.100000000000001, 35.340950052398597),\n",
       " (18.899999999999999, 17.913087621749227),\n",
       " (22.800000000000001, 24.764076896311561),\n",
       " (18.199999999999999, 13.996744805340857),\n",
       " (24.800000000000001, 30.399180444763811),\n",
       " (21.5, 18.65028454259237),\n",
       " (46.0, 39.885252241975465)]"
      ]
     },
     "execution_count": 289,
     "metadata": {},
     "output_type": "execute_result"
    }
   ],
   "source": [
    "zip (y_test, clf.predict(X_test))"
   ]
  },
  {
   "cell_type": "markdown",
   "metadata": {},
   "source": [
    "### R^2 score\n"
   ]
  },
  {
   "cell_type": "code",
   "execution_count": 290,
   "metadata": {
    "collapsed": false
   },
   "outputs": [
    {
     "data": {
      "text/plain": [
       "0.73273066916163532"
      ]
     },
     "execution_count": 290,
     "metadata": {},
     "output_type": "execute_result"
    }
   ],
   "source": [
    "r2_score(y_test, clf.predict(X_test))"
   ]
  },
  {
   "cell_type": "markdown",
   "metadata": {},
   "source": [
    "### MSE "
   ]
  },
  {
   "cell_type": "code",
   "execution_count": 291,
   "metadata": {
    "collapsed": false
   },
   "outputs": [
    {
     "data": {
      "text/plain": [
       "26.384774651192807"
      ]
     },
     "execution_count": 291,
     "metadata": {},
     "output_type": "execute_result"
    }
   ],
   "source": [
    "mean_squared_error(y_test, clf.predict(X_test))"
   ]
  },
  {
   "cell_type": "markdown",
   "metadata": {},
   "source": [
    "### Lasso linear model "
   ]
  },
  {
   "cell_type": "code",
   "execution_count": 292,
   "metadata": {
    "collapsed": false
   },
   "outputs": [
    {
     "name": "stdout",
     "output_type": "stream",
     "text": [
      "Lasso(alpha=0.1, copy_X=True, fit_intercept=True, max_iter=1000,\n",
      "   normalize=False, positive=False, precompute=False, random_state=None,\n",
      "   selection='cyclic', tol=0.0001, warm_start=False)\n",
      "r^2 on test data : 0.747488\n",
      "mse on test dara : 24.927898\n"
     ]
    }
   ],
   "source": [
    "alpha = 0.1\n",
    "lasso = Lasso(alpha=alpha)\n",
    "y_pred_lasso = lasso.fit(X_train, y_train).predict(X_test)\n",
    "r2_score_lasso = r2_score(y_test, y_pred_lasso)\n",
    "mse_lasso = mean_squared_error(y_test, y_pred_lasso)\n",
    "print(lasso)\n",
    "print(\"r^2 on test data : %f\" % r2_score_lasso)\n",
    "print(\"mse on test dara : %f\" % mse_lasso)\n",
    "\n"
   ]
  },
  {
   "cell_type": "code",
   "execution_count": 346,
   "metadata": {
    "collapsed": false
   },
   "outputs": [],
   "source": [
    "### calculating R^2 and MSE for different values of Alpha\n",
    "i = 0\n",
    "x = []\n",
    "y = []\n",
    "a = []\n",
    "alpha = .1\n",
    "\n",
    "while i <=10:\n",
    "        alpha = alpha +.01\n",
    "        a.append(alpha)\n",
    "        lasso = Lasso(alpha=alpha)\n",
    "        y_pred_lasso = lasso.fit(X_train, y_train).predict(X_test)\n",
    "        r2_score_lasso = r2_score(y_test, y_pred_lasso)\n",
    "        x.append(r2_score_lasso)\n",
    "        mse_lasso = mean_squared_error(y_test, y_pred_lasso)\n",
    "        y.append(mse_lasso)\n",
    "        i=i+.01"
   ]
  },
  {
   "cell_type": "markdown",
   "metadata": {},
   "source": [
    "### Plotting the Graphs for R^2 and MSE"
   ]
  },
  {
   "cell_type": "code",
   "execution_count": 347,
   "metadata": {
    "collapsed": false
   },
   "outputs": [
    {
     "data": {
      "image/png": "[encoded data removed]",
      "text/plain": [
       "<matplotlib.figure.Figure at 0xc625048>"
      ]
     },
     "metadata": {},
     "output_type": "display_data"
    }
   ],
   "source": [
    "fig = plt.figure()\n",
    "axes = fig.add_subplot(111)\n",
    "\n",
    "axes.plot(a , x)\n",
    "axes.set_xlabel('alpha')\n",
    "axes.set_ylabel('r^2 score')\n",
    "\n",
    "axes.grid()\n",
    "plt.show()"
   ]
  },
  {
   "cell_type": "code",
   "execution_count": 348,
   "metadata": {
    "collapsed": false
   },
   "outputs": [
    {
     "data": {
      "image/png": "[encoded data removed]",
      "text/plain": [
       "<matplotlib.figure.Figure at 0xc5cd2e8>"
      ]
     },
     "metadata": {},
     "output_type": "display_data"
    }
   ],
   "source": [
    "fig = plt.figure()\n",
    "axes = fig.add_subplot(111)\n",
    "\n",
    "axes.plot(a , y)\n",
    "axes.set_xlabel('alpha')\n",
    "axes.set_ylabel('mse')\n",
    "axes.grid()\n",
    "plt.show()"
   ]
  },
  {
   "cell_type": "code",
   "execution_count": 340,
   "metadata": {
    "collapsed": false
   },
   "outputs": [
    {
     "data": {
      "text/plain": [
       "0.26738618594976554"
      ]
     },
     "execution_count": 340,
     "metadata": {},
     "output_type": "execute_result"
    }
   ],
   "source": [
    "import math\n",
    "sum(x)/len(x)"
   ]
  },
  {
   "cell_type": "code",
   "execution_count": 341,
   "metadata": {
    "collapsed": false
   },
   "outputs": [
    {
     "data": {
      "text/plain": [
       "72.323488555281131"
      ]
     },
     "execution_count": 341,
     "metadata": {},
     "output_type": "execute_result"
    }
   ],
   "source": [
    "sum(y)/len(y)"
   ]
  },
  {
   "cell_type": "code",
   "execution_count": 342,
   "metadata": {
    "collapsed": false
   },
   "outputs": [
    {
     "data": {
      "text/plain": [
       "5.109999999999932"
      ]
     },
     "execution_count": 342,
     "metadata": {},
     "output_type": "execute_result"
    }
   ],
   "source": [
    "sum(a)/len(a)"
   ]
  },
  {
   "cell_type": "code",
   "execution_count": 343,
   "metadata": {
    "collapsed": false
   },
   "outputs": [
    {
     "data": {
      "text/plain": [
       "0.7492723245330275"
      ]
     },
     "execution_count": 343,
     "metadata": {},
     "output_type": "execute_result"
    }
   ],
   "source": [
    "max(x)"
   ]
  },
  {
   "cell_type": "code",
   "execution_count": 344,
   "metadata": {
    "collapsed": false
   },
   "outputs": [
    {
     "data": {
      "text/plain": [
       "98.720417979929948"
      ]
     },
     "execution_count": 344,
     "metadata": {},
     "output_type": "execute_result"
    }
   ],
   "source": [
    "max(y)"
   ]
  },
  {
   "cell_type": "markdown",
   "metadata": {},
   "source": [
    "From both graphs we see that as the value of alpha increases R^2 score decreases whereas MSE increases. \n",
    "Hence, to get the optimal result I have selected the mean value of alpha, intersection of the two curves\n",
    "(alpha = 3.25, not including values where r2 scre and mse becomes stagnant). "
   ]
  },
  {
   "cell_type": "code",
   "execution_count": 345,
   "metadata": {
    "collapsed": false
   },
   "outputs": [
    {
     "name": "stdout",
     "output_type": "stream",
     "text": [
      "Lasso(alpha=3.25, copy_X=True, fit_intercept=True, max_iter=1000,\n",
      "   normalize=False, positive=False, precompute=False, random_state=None,\n",
      "   selection='cyclic', tol=0.0001, warm_start=False)\n",
      "r^2 on test data : 0.446078\n",
      "mse on test dara : 54.683104\n"
     ]
    }
   ],
   "source": [
    "alpha = 3.25\n",
    "lasso = Lasso(alpha=alpha)\n",
    "y_pred_lasso = lasso.fit(X_train, y_train).predict(X_test)\n",
    "r2_score_lasso = r2_score(y_test, y_pred_lasso)\n",
    "mse_lasso = mean_squared_error(y_test, y_pred_lasso)\n",
    "print(lasso)\n",
    "print(\"r^2 on test data : %f\" % r2_score_lasso)\n",
    "print(\"mse on test dara : %f\" % mse_lasso)"
   ]
  },
  {
   "cell_type": "code",
   "execution_count": null,
   "metadata": {
    "collapsed": true
   },
   "outputs": [],
   "source": []
  }
 ],
 "metadata": {
  "anaconda-cloud": {},
  "kernelspec": {
   "display_name": "Python [conda root]",
   "language": "python",
   "name": "conda-root-py"
  },
  "language_info": {
   "codemirror_mode": {
    "name": "ipython",
    "version": 2
   },
   "file_extension": ".py",
   "mimetype": "text/x-python",
   "name": "python",
   "nbconvert_exporter": "python",
   "pygments_lexer": "ipython2",
   "version": "2.7.12"
  }
 },
 "nbformat": 4,
 "nbformat_minor": 0
}
